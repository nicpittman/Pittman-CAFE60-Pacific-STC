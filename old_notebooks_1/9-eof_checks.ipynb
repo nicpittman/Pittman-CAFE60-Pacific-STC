{
 "cells": [
  {
   "cell_type": "code",
   "execution_count": 1,
   "id": "6136c4c4-75a5-40f5-8ddf-d53141ba18a5",
   "metadata": {},
   "outputs": [],
   "source": [
    "# %load C60_jupyter_imports.py\n",
    "%load_ext autoreload\n",
    "%autoreload 2\n",
    "\n",
    "import xarray as xr\n",
    "import numpy as np\n",
    "from dask.distributed import Client\n",
    "import matplotlib as mpl\n",
    "import matplotlib.pyplot as plt\n",
    "import seaborn as sns\n",
    "import pandas as pd\n",
    "from scipy import stats\n",
    "import xesmf as xe\n",
    "from scipy.stats import linregress\n",
    "import os\n",
    "import requests\n",
    "import dask\n",
    "# Lets import our functions. There are no tests here. Stored separately so as to not make a mess.\n",
    "# Make sure in right dir first\n",
    "from eofs.xarray import Eof\n",
    "os.chdir('/g/data/xv83/np1383/src_CAFE60_eqpac_analysis_code/')\n",
    "from C60_obs_functions import cut_regrid_reynolds_sst,cut_process_sst_obs_trends,proc_landschutzer,process_co2_land_trends"
   ]
  },
  {
   "cell_type": "code",
   "execution_count": null,
   "id": "344a53e7-e410-422a-a2d1-b552e3847607",
   "metadata": {},
   "outputs": [],
   "source": []
  },
  {
   "cell_type": "code",
   "execution_count": 2,
   "id": "b7a77cd9-1897-4021-8d85-84862ed3f1d9",
   "metadata": {},
   "outputs": [
    {
     "name": "stderr",
     "output_type": "stream",
     "text": [
      "/g/data/hh5/public/apps/miniconda3/envs/analysis3-21.10/lib/python3.9/site-packages/dask_jobqueue/core.py:20: FutureWarning: tmpfile is deprecated and will be removed in a future release. Please use dask.utils.tmpfile instead.\n",
      "  from distributed.utils import tmpfile\n"
     ]
    },
    {
     "data": {
      "text/html": [
       "<div>\n",
       "    <div style=\"width: 24px; height: 24px; background-color: #e1e1e1; border: 3px solid #9D9D9D; border-radius: 5px; position: absolute;\"> </div>\n",
       "    <div style=\"margin-left: 48px;\">\n",
       "        <h3 style=\"margin-bottom: 0px;\">Client</h3>\n",
       "        <p style=\"color: #9D9D9D; margin-bottom: 0px;\">Client-020d5a49-4b3a-11ec-9849-fa163efdce2f</p>\n",
       "        <table style=\"width: 100%; text-align: left;\">\n",
       "\n",
       "        <tr>\n",
       "        \n",
       "            <td style=\"text-align: left;\"><strong>Connection method:</strong> Cluster object</td>\n",
       "            <td style=\"text-align: left;\"><strong>Cluster type:</strong> dask_jobqueue.SLURMCluster</td>\n",
       "        \n",
       "        </tr>\n",
       "\n",
       "        \n",
       "            <tr>\n",
       "                <td style=\"text-align: left;\">\n",
       "                    <strong>Dashboard: </strong> <a href=\"/proxy/8787/status\" target=\"_blank\">/proxy/8787/status</a>\n",
       "                </td>\n",
       "                <td style=\"text-align: left;\"></td>\n",
       "            </tr>\n",
       "        \n",
       "\n",
       "        </table>\n",
       "\n",
       "        \n",
       "            <details>\n",
       "            <summary style=\"margin-bottom: 20px;\"><h3 style=\"display: inline;\">Cluster Info</h3></summary>\n",
       "            <div class=\"jp-RenderedHTMLCommon jp-RenderedHTML jp-mod-trusted jp-OutputArea-output\">\n",
       "    <div style=\"width: 24px; height: 24px; background-color: #e1e1e1; border: 3px solid #9D9D9D; border-radius: 5px; position: absolute;\">\n",
       "    </div>\n",
       "    <div style=\"margin-left: 48px;\">\n",
       "        <h3 style=\"margin-bottom: 0px; margin-top: 0px;\">SLURMCluster</h3>\n",
       "        <p style=\"color: #9D9D9D; margin-bottom: 0px;\">2643aa6c</p>\n",
       "        <table style=\"width: 100%; text-align: left;\">\n",
       "            <tr>\n",
       "                <td style=\"text-align: left;\">\n",
       "                    <strong>Dashboard:</strong> <a href=\"/proxy/8787/status\" target=\"_blank\">/proxy/8787/status</a>\n",
       "                </td>\n",
       "                <td style=\"text-align: left;\">\n",
       "                    <strong>Workers:</strong> 0\n",
       "                </td>\n",
       "            </tr>\n",
       "            <tr>\n",
       "                <td style=\"text-align: left;\">\n",
       "                    <strong>Total threads:</strong> 0\n",
       "                </td>\n",
       "                <td style=\"text-align: left;\">\n",
       "                    <strong>Total memory:</strong> 0 B\n",
       "                </td>\n",
       "            </tr>\n",
       "            \n",
       "        </table>\n",
       "\n",
       "        <details>\n",
       "            <summary style=\"margin-bottom: 20px;\">\n",
       "                <h3 style=\"display: inline;\">Scheduler Info</h3>\n",
       "            </summary>\n",
       "\n",
       "            <div style=\"\">\n",
       "    <div>\n",
       "        <div style=\"width: 24px; height: 24px; background-color: #FFF7E5; border: 3px solid #FF6132; border-radius: 5px; position: absolute;\"> </div>\n",
       "        <div style=\"margin-left: 48px;\">\n",
       "            <h3 style=\"margin-bottom: 0px;\">Scheduler</h3>\n",
       "            <p style=\"color: #9D9D9D; margin-bottom: 0px;\">Scheduler-ab60a303-227b-4fd1-82e0-a3fbec433f2b</p>\n",
       "            <table style=\"width: 100%; text-align: left;\">\n",
       "                <tr>\n",
       "                    <td style=\"text-align: left;\">\n",
       "                        <strong>Comm:</strong> tcp://10.0.128.130:41785\n",
       "                    </td>\n",
       "                    <td style=\"text-align: left;\">\n",
       "                        <strong>Workers:</strong> 0\n",
       "                    </td>\n",
       "                </tr>\n",
       "                <tr>\n",
       "                    <td style=\"text-align: left;\">\n",
       "                        <strong>Dashboard:</strong> <a href=\"/proxy/8787/status\" target=\"_blank\">/proxy/8787/status</a>\n",
       "                    </td>\n",
       "                    <td style=\"text-align: left;\">\n",
       "                        <strong>Total threads:</strong> 0\n",
       "                    </td>\n",
       "                </tr>\n",
       "                <tr>\n",
       "                    <td style=\"text-align: left;\">\n",
       "                        <strong>Started:</strong> Just now\n",
       "                    </td>\n",
       "                    <td style=\"text-align: left;\">\n",
       "                        <strong>Total memory:</strong> 0 B\n",
       "                    </td>\n",
       "                </tr>\n",
       "            </table>\n",
       "        </div>\n",
       "    </div>\n",
       "\n",
       "    <details style=\"margin-left: 48px;\">\n",
       "        <summary style=\"margin-bottom: 20px;\">\n",
       "            <h3 style=\"display: inline;\">Workers</h3>\n",
       "        </summary>\n",
       "\n",
       "        \n",
       "\n",
       "    </details>\n",
       "</div>\n",
       "\n",
       "        </details>\n",
       "    </div>\n",
       "</div>\n",
       "            </details>\n",
       "        \n",
       "\n",
       "    </div>\n",
       "</div>"
      ],
      "text/plain": [
       "<Client: 'tcp://10.0.128.130:41785' processes=0 threads=0, memory=0 B>"
      ]
     },
     "execution_count": 2,
     "metadata": {},
     "output_type": "execute_result"
    }
   ],
   "source": [
    "# Set up the remote dask cluster. Can either use this version or a similar version above if building a LocalCluster.\n",
    "from dask.distributed import Client,Scheduler\n",
    "from dask_jobqueue import SLURMCluster\n",
    "cluster = SLURMCluster(cores=2,memory=\"16GB\")\n",
    "client = Client(cluster)\n",
    "cluster.scale(cores=16)\n",
    "#cluster.adapt(minimum=2, maximum=16)\n",
    "client"
   ]
  },
  {
   "cell_type": "code",
   "execution_count": 3,
   "id": "7b80516e-6218-483a-bcaa-7ae2a241e9db",
   "metadata": {},
   "outputs": [],
   "source": [
    "syear='2000'# or '2000'\n",
    "calculate_and_save_eofs=True\n",
    "deseasonalise=True\n",
    "yearName='_2000' #'' otherwise"
   ]
  },
  {
   "cell_type": "code",
   "execution_count": 4,
   "id": "5fc3e837-c7fb-42e9-9dab-4fa1eb4514e2",
   "metadata": {},
   "outputs": [
    {
     "name": "stderr",
     "output_type": "stream",
     "text": [
      "/local/v45/np1383/tmp/ipykernel_3364937/1675290067.py:7: RuntimeWarning: Converting a CFTimeIndex with dates from a non-standard calendar, 'julian', to a pandas.DatetimeIndex, which uses dates from the standard calendar.  This may lead to subtle errors in operations that depend on the length of time between dates.\n",
      "  eqpac['time']=np.array(eqpac.indexes['time'].to_datetimeindex(), dtype='datetime64[M]')\n"
     ]
    }
   ],
   "source": [
    "bgc=xr.open_zarr('/g/data/xv83/dcfp/CAFE60v1/ocean_bgc_month.zarr.zip')\n",
    "bgc=bgc.rename({'xt_ocean':'lon','yt_ocean':'lat'})\n",
    "bgc['lon']=bgc['lon']+360\n",
    "eqpac=bgc.sel(lon=slice(120,290),lat=slice(-20,20))\n",
    "#eqpac.time\n",
    "eqpac\n",
    "eqpac['time']=np.array(eqpac.indexes['time'].to_datetimeindex(), dtype='datetime64[M]')\n",
    "eqpac=eqpac.sel(ensemble=26,time=slice(syear+'-01-01','2019-12-31'))\n",
    "eqpac=eqpac.chunk(dict(time=-1))"
   ]
  },
  {
   "cell_type": "code",
   "execution_count": 5,
   "id": "de7f6219-380b-4fc1-8343-8e29ff1a07b0",
   "metadata": {},
   "outputs": [],
   "source": [
    "land_co2=(xr.open_dataset('../processed_data/obs/landshutzer_global_regrid.nc')/365).sel(lon=slice(120,290),lat=slice(-20,20),time=slice(syear+'-01-01','2019-12-31'))\n",
    "rodenbeck_co2=xr.open_dataset('../processed_data/obs/rodenbeck_global_regrid.nc').sel(lon=slice(120,290),lat=slice(-20,20),time=slice(syear+'-01-01','2019-12-31'))\n",
    "rey_sst=xr.open_dataset('../processed_data/obs/sst.mnmean.regrid.global.nc').sel(lon=slice(120,290),lat=slice(-20,20),time=slice(syear+'-01-01','2019-12-31'))"
   ]
  },
  {
   "cell_type": "code",
   "execution_count": 6,
   "id": "e96bc315-0edb-4916-8ae3-27591a71e2fb",
   "metadata": {},
   "outputs": [],
   "source": [
    "phys=xr.open_zarr('/g/data/xv83/dcfp/CAFE60v1/ocean_month.zarr.zip')\n",
    "phys=phys.rename({'xu_ocean':'lon_x','yu_ocean':'lat_x'})\n",
    "phys=phys.rename({'xt_ocean':'lon','yt_ocean':'lat'})\n",
    "\n",
    "phys['lon']=phys['lon']+360\n",
    "phys['lon_x']=phys['lon_x']+360\n",
    "phys['st_ocean']=phys['st_ocean']*-1\n",
    "phys['sw_ocean']=phys['sw_ocean']*-1\n",
    "phys_eqpac=phys.sel(lon=slice(120,290),lat=slice(-20,20),ensemble=26)\n",
    "phys_eqpac=phys_eqpac.chunk(dict(time=-1))"
   ]
  },
  {
   "cell_type": "code",
   "execution_count": 7,
   "id": "85d3070f-0ab5-4941-b205-55bf22d85d2e",
   "metadata": {},
   "outputs": [
    {
     "data": {
      "application/vnd.jupyter.widget-view+json": {
       "model_id": "a8e39cfbfefc440ab132b8ad50aff9c8",
       "version_major": 2,
       "version_minor": 0
      },
      "text/plain": [
       "Tab(children=(HTML(value='<div class=\"jp-RenderedHTMLCommon jp-RenderedHTML jp-mod-trusted jp-OutputArea-outpu…"
      ]
     },
     "metadata": {},
     "output_type": "display_data"
    }
   ],
   "source": [
    "cluster"
   ]
  },
  {
   "cell_type": "code",
   "execution_count": null,
   "id": "85d7bf5b-76a3-4563-9226-45ecccafaeb5",
   "metadata": {},
   "outputs": [],
   "source": []
  },
  {
   "cell_type": "code",
   "execution_count": 8,
   "id": "05fa1cab-9339-4bfb-a5e3-fb0f1dad0487",
   "metadata": {},
   "outputs": [
    {
     "data": {
      "text/plain": [
       "<matplotlib.collections.QuadMesh at 0x7fa931379e50>"
      ]
     },
     "execution_count": 8,
     "metadata": {},
     "output_type": "execute_result"
    },
    {
     "data": {
      "image/png": "[encoded data removed]",
      "text/plain": [
       "<Figure size 360x720 with 4 Axes>"
      ]
     },
     "metadata": {
      "needs_background": "light"
     },
     "output_type": "display_data"
    }
   ],
   "source": [
    "plt.figure(figsize=(5,10))\n",
    "plt.subplot(211)\n",
    "phys_eqpac.sst.mean(dim='time').plot()\n",
    "plt.subplot(212)\n",
    "rey_sst.sst.mean(dim='time').plot()"
   ]
  },
  {
   "cell_type": "code",
   "execution_count": 9,
   "id": "ffddfc5c-93de-4061-9a17-74c8f81f0530",
   "metadata": {},
   "outputs": [
    {
     "ename": "ValueError",
     "evalue": "error encountered in SVD, check that missing values are in the same places at each time and that all the values are not missing",
     "output_type": "error",
     "traceback": [
      "\u001b[0;31m---------------------------------------------------------------------------\u001b[0m",
      "\u001b[0;31mValueError\u001b[0m                                Traceback (most recent call last)",
      "\u001b[0;32m/g/data/hh5/public/apps/miniconda3/envs/analysis3-21.10/lib/python3.9/site-packages/eofs/standard.py\u001b[0m in \u001b[0;36m__init__\u001b[0;34m(self, dataset, weights, center, ddof)\u001b[0m\n\u001b[1;32m    164\u001b[0m                 \u001b[0;31m# Use the parallel Dask algorithm\u001b[0m\u001b[0;34m\u001b[0m\u001b[0;34m\u001b[0m\u001b[0m\n\u001b[0;32m--> 165\u001b[0;31m                 \u001b[0mdsvd\u001b[0m \u001b[0;34m=\u001b[0m \u001b[0mdask\u001b[0m\u001b[0;34m.\u001b[0m\u001b[0marray\u001b[0m\u001b[0;34m.\u001b[0m\u001b[0mlinalg\u001b[0m\u001b[0;34m.\u001b[0m\u001b[0msvd\u001b[0m\u001b[0;34m(\u001b[0m\u001b[0mdataNoMissing\u001b[0m\u001b[0;34m)\u001b[0m\u001b[0;34m\u001b[0m\u001b[0;34m\u001b[0m\u001b[0m\n\u001b[0m\u001b[1;32m    166\u001b[0m                 \u001b[0mA\u001b[0m\u001b[0;34m,\u001b[0m \u001b[0mLh\u001b[0m\u001b[0;34m,\u001b[0m \u001b[0mE\u001b[0m \u001b[0;34m=\u001b[0m \u001b[0;34m(\u001b[0m\u001b[0mx\u001b[0m\u001b[0;34m.\u001b[0m\u001b[0mcompute\u001b[0m\u001b[0;34m(\u001b[0m\u001b[0;34m)\u001b[0m \u001b[0;32mfor\u001b[0m \u001b[0mx\u001b[0m \u001b[0;32min\u001b[0m \u001b[0mdsvd\u001b[0m\u001b[0;34m)\u001b[0m\u001b[0;34m\u001b[0m\u001b[0;34m\u001b[0m\u001b[0m\n",
      "\u001b[0;32m/g/data/hh5/public/apps/miniconda3/envs/analysis3-21.10/lib/python3.9/site-packages/dask/array/linalg.py\u001b[0m in \u001b[0;36msvd\u001b[0;34m(a, coerce_signs)\u001b[0m\n\u001b[1;32m    956\u001b[0m     \u001b[0;32mif\u001b[0m \u001b[0mcoerce_signs\u001b[0m\u001b[0;34m:\u001b[0m\u001b[0;34m\u001b[0m\u001b[0;34m\u001b[0m\u001b[0m\n\u001b[0;32m--> 957\u001b[0;31m         \u001b[0mu\u001b[0m\u001b[0;34m,\u001b[0m \u001b[0mv\u001b[0m \u001b[0;34m=\u001b[0m \u001b[0msvd_flip\u001b[0m\u001b[0;34m(\u001b[0m\u001b[0mu\u001b[0m\u001b[0;34m,\u001b[0m \u001b[0mv\u001b[0m\u001b[0;34m)\u001b[0m\u001b[0;34m\u001b[0m\u001b[0;34m\u001b[0m\u001b[0m\n\u001b[0m\u001b[1;32m    958\u001b[0m     \u001b[0;32mreturn\u001b[0m \u001b[0mu\u001b[0m\u001b[0;34m,\u001b[0m \u001b[0ms\u001b[0m\u001b[0;34m,\u001b[0m \u001b[0mv\u001b[0m\u001b[0;34m\u001b[0m\u001b[0;34m\u001b[0m\u001b[0m\n",
      "\u001b[0;32m/g/data/hh5/public/apps/miniconda3/envs/analysis3-21.10/lib/python3.9/site-packages/dask/array/utils.py\u001b[0m in \u001b[0;36msvd_flip\u001b[0;34m(u, v, u_based_decision)\u001b[0m\n\u001b[1;32m    502\u001b[0m     \u001b[0;31m# Force all singular vectors into same half-space\u001b[0m\u001b[0;34m\u001b[0m\u001b[0;34m\u001b[0m\u001b[0m\n\u001b[0;32m--> 503\u001b[0;31m     \u001b[0mu\u001b[0m\u001b[0;34m,\u001b[0m \u001b[0mv\u001b[0m \u001b[0;34m=\u001b[0m \u001b[0mu\u001b[0m \u001b[0;34m*\u001b[0m \u001b[0msigns\u001b[0m\u001b[0;34m,\u001b[0m \u001b[0mv\u001b[0m \u001b[0;34m*\u001b[0m \u001b[0msigns\u001b[0m\u001b[0;34m.\u001b[0m\u001b[0mT\u001b[0m\u001b[0;34m\u001b[0m\u001b[0;34m\u001b[0m\u001b[0m\n\u001b[0m\u001b[1;32m    504\u001b[0m     \u001b[0;32mreturn\u001b[0m \u001b[0mu\u001b[0m\u001b[0;34m,\u001b[0m \u001b[0mv\u001b[0m\u001b[0;34m\u001b[0m\u001b[0;34m\u001b[0m\u001b[0m\n",
      "\u001b[0;32m/g/data/hh5/public/apps/miniconda3/envs/analysis3-21.10/lib/python3.9/site-packages/dask/array/core.py\u001b[0m in \u001b[0;36mwrapper\u001b[0;34m(self, other)\u001b[0m\n\u001b[1;32m    203\u001b[0m         \u001b[0;32melse\u001b[0m\u001b[0;34m:\u001b[0m\u001b[0;34m\u001b[0m\u001b[0;34m\u001b[0m\u001b[0m\n\u001b[0;32m--> 204\u001b[0;31m             \u001b[0;32mreturn\u001b[0m \u001b[0mf\u001b[0m\u001b[0;34m(\u001b[0m\u001b[0mself\u001b[0m\u001b[0;34m,\u001b[0m \u001b[0mother\u001b[0m\u001b[0;34m)\u001b[0m\u001b[0;34m\u001b[0m\u001b[0;34m\u001b[0m\u001b[0m\n\u001b[0m\u001b[1;32m    205\u001b[0m \u001b[0;34m\u001b[0m\u001b[0m\n",
      "\u001b[0;32m/g/data/hh5/public/apps/miniconda3/envs/analysis3-21.10/lib/python3.9/site-packages/dask/array/core.py\u001b[0m in \u001b[0;36m__mul__\u001b[0;34m(self, other)\u001b[0m\n\u001b[1;32m   2120\u001b[0m     \u001b[0;32mdef\u001b[0m \u001b[0m__mul__\u001b[0m\u001b[0;34m(\u001b[0m\u001b[0mself\u001b[0m\u001b[0;34m,\u001b[0m \u001b[0mother\u001b[0m\u001b[0;34m)\u001b[0m\u001b[0;34m:\u001b[0m\u001b[0;34m\u001b[0m\u001b[0;34m\u001b[0m\u001b[0m\n\u001b[0;32m-> 2121\u001b[0;31m         \u001b[0;32mreturn\u001b[0m \u001b[0melemwise\u001b[0m\u001b[0;34m(\u001b[0m\u001b[0moperator\u001b[0m\u001b[0;34m.\u001b[0m\u001b[0mmul\u001b[0m\u001b[0;34m,\u001b[0m \u001b[0mself\u001b[0m\u001b[0;34m,\u001b[0m \u001b[0mother\u001b[0m\u001b[0;34m)\u001b[0m\u001b[0;34m\u001b[0m\u001b[0;34m\u001b[0m\u001b[0m\n\u001b[0m\u001b[1;32m   2122\u001b[0m \u001b[0;34m\u001b[0m\u001b[0m\n",
      "\u001b[0;32m/g/data/hh5/public/apps/miniconda3/envs/analysis3-21.10/lib/python3.9/site-packages/dask/array/core.py\u001b[0m in \u001b[0;36melemwise\u001b[0;34m(op, *args, **kwargs)\u001b[0m\n\u001b[1;32m   4402\u001b[0m     out_ndim = len(\n\u001b[0;32m-> 4403\u001b[0;31m         \u001b[0mbroadcast_shapes\u001b[0m\u001b[0;34m(\u001b[0m\u001b[0;34m*\u001b[0m\u001b[0mshapes\u001b[0m\u001b[0;34m)\u001b[0m\u001b[0;34m\u001b[0m\u001b[0;34m\u001b[0m\u001b[0m\n\u001b[0m\u001b[1;32m   4404\u001b[0m     )  # Raises ValueError if dimensions mismatch\n",
      "\u001b[0;32m/g/data/hh5/public/apps/miniconda3/envs/analysis3-21.10/lib/python3.9/site-packages/dask/array/core.py\u001b[0m in \u001b[0;36mbroadcast_shapes\u001b[0;34m(*shapes)\u001b[0m\n\u001b[1;32m   4361\u001b[0m         \u001b[0;32mif\u001b[0m \u001b[0many\u001b[0m\u001b[0;34m(\u001b[0m\u001b[0mi\u001b[0m \u001b[0;32mnot\u001b[0m \u001b[0;32min\u001b[0m \u001b[0;34m[\u001b[0m\u001b[0;34m-\u001b[0m\u001b[0;36m1\u001b[0m\u001b[0;34m,\u001b[0m \u001b[0;36m0\u001b[0m\u001b[0;34m,\u001b[0m \u001b[0;36m1\u001b[0m\u001b[0;34m,\u001b[0m \u001b[0mdim\u001b[0m\u001b[0;34m]\u001b[0m \u001b[0;32mand\u001b[0m \u001b[0;32mnot\u001b[0m \u001b[0mnp\u001b[0m\u001b[0;34m.\u001b[0m\u001b[0misnan\u001b[0m\u001b[0;34m(\u001b[0m\u001b[0mi\u001b[0m\u001b[0;34m)\u001b[0m \u001b[0;32mfor\u001b[0m \u001b[0mi\u001b[0m \u001b[0;32min\u001b[0m \u001b[0msizes\u001b[0m\u001b[0;34m)\u001b[0m\u001b[0;34m:\u001b[0m\u001b[0;34m\u001b[0m\u001b[0;34m\u001b[0m\u001b[0m\n\u001b[0;32m-> 4362\u001b[0;31m             raise ValueError(\n\u001b[0m\u001b[1;32m   4363\u001b[0m                 \u001b[0;34m\"operands could not be broadcast together with \"\u001b[0m\u001b[0;34m\u001b[0m\u001b[0;34m\u001b[0m\u001b[0m\n",
      "\u001b[0;31mValueError\u001b[0m: operands could not be broadcast together with shapes (240, 240) (1, nan)",
      "\nDuring handling of the above exception, another exception occurred:\n",
      "\u001b[0;31mValueError\u001b[0m                                Traceback (most recent call last)",
      "\u001b[0;32m/local/v45/np1383/tmp/ipykernel_3364937/3045002025.py\u001b[0m in \u001b[0;36m<module>\u001b[0;34m\u001b[0m\n\u001b[1;32m      3\u001b[0m     \u001b[0;32mif\u001b[0m \u001b[0mdeseasonalise\u001b[0m\u001b[0;34m==\u001b[0m\u001b[0;32mTrue\u001b[0m\u001b[0;34m:\u001b[0m\u001b[0;34m\u001b[0m\u001b[0;34m\u001b[0m\u001b[0m\n\u001b[1;32m      4\u001b[0m         \u001b[0mco2_dat\u001b[0m\u001b[0;34m=\u001b[0m\u001b[0mco2_dat\u001b[0m\u001b[0;34m.\u001b[0m\u001b[0mrolling\u001b[0m\u001b[0;34m(\u001b[0m\u001b[0mtime\u001b[0m\u001b[0;34m=\u001b[0m\u001b[0;36m12\u001b[0m\u001b[0;34m,\u001b[0m\u001b[0mcenter\u001b[0m\u001b[0;34m=\u001b[0m\u001b[0;32mTrue\u001b[0m\u001b[0;34m)\u001b[0m\u001b[0;34m.\u001b[0m\u001b[0mmean\u001b[0m\u001b[0;34m(\u001b[0m\u001b[0;34m)\u001b[0m\u001b[0;34m\u001b[0m\u001b[0;34m\u001b[0m\u001b[0m\n\u001b[0;32m----> 5\u001b[0;31m     \u001b[0meqpac_co2_eof_solver\u001b[0m\u001b[0;34m=\u001b[0m\u001b[0mEof\u001b[0m\u001b[0;34m(\u001b[0m\u001b[0mco2_dat\u001b[0m\u001b[0;34m)\u001b[0m\u001b[0;34m\u001b[0m\u001b[0;34m\u001b[0m\u001b[0m\n\u001b[0m\u001b[1;32m      6\u001b[0m     \u001b[0meqpac_co2_eof\u001b[0m\u001b[0;34m=\u001b[0m\u001b[0meqpac_co2_eof_solver\u001b[0m\u001b[0;34m.\u001b[0m\u001b[0meofs\u001b[0m\u001b[0;34m(\u001b[0m\u001b[0;34m)\u001b[0m\u001b[0;34m\u001b[0m\u001b[0;34m\u001b[0m\u001b[0m\n\u001b[1;32m      7\u001b[0m     \u001b[0;31m#eqpac_co2_eof.sel(mode=1).plot()\u001b[0m\u001b[0;34m\u001b[0m\u001b[0;34m\u001b[0m\u001b[0m\n",
      "\u001b[0;32m/g/data/hh5/public/apps/miniconda3/envs/analysis3-21.10/lib/python3.9/site-packages/eofs/xarray.py\u001b[0m in \u001b[0;36m__init__\u001b[0;34m(self, array, weights, center, ddof)\u001b[0m\n\u001b[1;32m    128\u001b[0m             \u001b[0;32mpass\u001b[0m\u001b[0;34m\u001b[0m\u001b[0;34m\u001b[0m\u001b[0m\n\u001b[1;32m    129\u001b[0m         \u001b[0;31m# Construct the EOF solver.\u001b[0m\u001b[0;34m\u001b[0m\u001b[0;34m\u001b[0m\u001b[0m\n\u001b[0;32m--> 130\u001b[0;31m         self._solver = standard.Eof(array.data,\n\u001b[0m\u001b[1;32m    131\u001b[0m                                     \u001b[0mweights\u001b[0m\u001b[0;34m=\u001b[0m\u001b[0mwtarray\u001b[0m\u001b[0;34m,\u001b[0m\u001b[0;34m\u001b[0m\u001b[0;34m\u001b[0m\u001b[0m\n\u001b[1;32m    132\u001b[0m                                     \u001b[0mcenter\u001b[0m\u001b[0;34m=\u001b[0m\u001b[0mcenter\u001b[0m\u001b[0;34m,\u001b[0m\u001b[0;34m\u001b[0m\u001b[0;34m\u001b[0m\u001b[0m\n",
      "\u001b[0;32m/g/data/hh5/public/apps/miniconda3/envs/analysis3-21.10/lib/python3.9/site-packages/eofs/standard.py\u001b[0m in \u001b[0;36m__init__\u001b[0;34m(self, dataset, weights, center, ddof)\u001b[0m\n\u001b[1;32m    175\u001b[0m \u001b[0;34m\u001b[0m\u001b[0m\n\u001b[1;32m    176\u001b[0m         \u001b[0;32mexcept\u001b[0m \u001b[0;34m(\u001b[0m\u001b[0mnp\u001b[0m\u001b[0;34m.\u001b[0m\u001b[0mlinalg\u001b[0m\u001b[0;34m.\u001b[0m\u001b[0mLinAlgError\u001b[0m\u001b[0;34m,\u001b[0m \u001b[0mValueError\u001b[0m\u001b[0;34m)\u001b[0m\u001b[0;34m:\u001b[0m\u001b[0;34m\u001b[0m\u001b[0;34m\u001b[0m\u001b[0m\n\u001b[0;32m--> 177\u001b[0;31m             raise ValueError('error encountered in SVD, check that missing '\n\u001b[0m\u001b[1;32m    178\u001b[0m                              \u001b[0;34m'values are in the same places at each time and '\u001b[0m\u001b[0;34m\u001b[0m\u001b[0;34m\u001b[0m\u001b[0m\n\u001b[1;32m    179\u001b[0m                              'that all the values are not missing')\n",
      "\u001b[0;31mValueError\u001b[0m: error encountered in SVD, check that missing values are in the same places at each time and that all the values are not missing"
     ]
    }
   ],
   "source": [
    "\n",
    "if calculate_and_save_eofs==True:\n",
    "    co2_dat=(eqpac.stf10.interpolate_na(dim='time')/1000)*86400*-12\n",
    "    if deseasonalise==True:\n",
    "        co2_dat=co2_dat.rolling(time=12,center=True).mean()\n",
    "    eqpac_co2_eof_solver=Eof(co2_dat)\n",
    "    eqpac_co2_eof=eqpac_co2_eof_solver.eofs()\n",
    "    #eqpac_co2_eof.sel(mode=1).plot()\n",
    "    eqpac_co2_eof.to_netcdf('../external_data/cafe_co2_eofs'+yearName+'.nc')\n",
    "    print('cafe co2 eofs saved')\n",
    "    \n",
    "    sst_dat=phys_eqpac.sst.interpolate_na(dim='time')\n",
    "    if deseasonalise==True:\n",
    "        sst_dat=co2_dat.rolling(time=12,center=True).mean()\n",
    "    eqpac_sst_eof_solver=Eof(sst_dat)\n",
    "    eqpac_sst_eof=eqpac_sst_eof_solver.eofs()\n",
    "    eqpac_sst_eof.to_netcdf('../external_data/cafe_sst_eofs'+yearName+'.nc')\n",
    "    print('cafe sst eofs saved')\n",
    "    cluster.scale(cores=2)"
   ]
  },
  {
   "cell_type": "code",
   "execution_count": null,
   "id": "8253217e-2dec-4727-a870-55a2666b3769",
   "metadata": {},
   "outputs": [],
   "source": [
    "eqpac_sst_eof=xr.open_dataset('../external_data/cafe_sst_eofs'+yearName+'.nc')\n",
    "eqpac_co2_eof=xr.open_dataset('../external_data/cafe_co2_eofs'+yearName+'.nc')"
   ]
  },
  {
   "cell_type": "code",
   "execution_count": null,
   "id": "d9a6aba0-7998-4fa5-869e-f773ce71c922",
   "metadata": {},
   "outputs": [],
   "source": [
    "#cluster.scale(2)"
   ]
  },
  {
   "cell_type": "code",
   "execution_count": null,
   "id": "3e0f4c3d-ae35-4079-ae0d-c79eb4470041",
   "metadata": {},
   "outputs": [],
   "source": [
    "pwd"
   ]
  },
  {
   "cell_type": "code",
   "execution_count": null,
   "id": "1c1e79e7-5dcb-49c0-8c93-5569d49b4c8d",
   "metadata": {},
   "outputs": [],
   "source": [
    "# Calculate reynolds eofs on the fly as they are pretty lightweight\n",
    "rey_eof_solver=Eof(rey_sst.sst)\n",
    "rey_eof=rey_eof_solver.eofs()"
   ]
  },
  {
   "cell_type": "code",
   "execution_count": null,
   "id": "af2e852a-6964-4c78-b6d1-25920c030bdf",
   "metadata": {},
   "outputs": [],
   "source": [
    "# Same for Landschutzer CO2 fluxes\n",
    "co2_flux_eof=Eof(land_co2.fgco2_smoothed)\n",
    "land_eof=co2_flux_eof.eofs()"
   ]
  },
  {
   "cell_type": "code",
   "execution_count": null,
   "id": "e72ac3c5-7303-4f9a-9ce5-11a13259ea37",
   "metadata": {},
   "outputs": [],
   "source": [
    "#cluster.scale(2)\n",
    "co2_flux_eof.eofsAsCorrelation(neofs=4)"
   ]
  },
  {
   "cell_type": "code",
   "execution_count": null,
   "id": "18c14a4e-0d87-4537-8bcc-cee936042583",
   "metadata": {},
   "outputs": [],
   "source": [
    "modes=[0,1,2,3,4,5,6,7,8,9,10]\n",
    "for mode in modes:\n",
    "\n",
    "    plt.figure(figsize=(15,10))\n",
    "    plt.subplot(221)\n",
    "    rey_eof.sel(mode=mode).plot()\n",
    "    plt.title('OBS, Reynolds OISST 2000-2020'+str(mode))\n",
    "    plt.subplot(222)\n",
    "    eqpac_sst_eof.eofs.sel(mode=mode).plot()\n",
    "    plt.title('CAFE60, SST 2000-2020, mode: '+str(mode))\n",
    "    plt.subplot(223)\n",
    "    land_eof.sel(mode=mode).plot()\n",
    "    plt.title('OBS, Landschutzer CO2 Flux *-1 2000-2020'+str(mode))\n",
    "    plt.subplot(224)\n",
    "    eqpac_co2_eof.eofs.sel(mode=mode).plot()\n",
    "    plt.title('CAFE60, CO2 flux')\n",
    "    plt.show()"
   ]
  },
  {
   "cell_type": "code",
   "execution_count": null,
   "id": "2a98cd54-91f1-4054-b5d5-7f5d2a2242d5",
   "metadata": {},
   "outputs": [],
   "source": []
  },
  {
   "cell_type": "code",
   "execution_count": null,
   "id": "db380e07-e673-45ff-a3c8-6241600734ef",
   "metadata": {},
   "outputs": [],
   "source": []
  },
  {
   "cell_type": "code",
   "execution_count": null,
   "id": "6d6ebd72-7536-4dcf-9c55-ec4856fd3b70",
   "metadata": {},
   "outputs": [],
   "source": []
  },
  {
   "cell_type": "code",
   "execution_count": null,
   "id": "bc2f8157-e843-42a1-9d42-1654c4f2efab",
   "metadata": {},
   "outputs": [],
   "source": []
  },
  {
   "cell_type": "code",
   "execution_count": null,
   "id": "b085e8be-8e93-4aea-a61f-ae5443675d55",
   "metadata": {},
   "outputs": [],
   "source": []
  },
  {
   "cell_type": "code",
   "execution_count": null,
   "id": "9815ce7a-f335-4058-89dd-657b65c7decf",
   "metadata": {},
   "outputs": [],
   "source": []
  },
  {
   "cell_type": "code",
   "execution_count": null,
   "id": "36ac1cf2-8198-4504-97ab-f21598c55e77",
   "metadata": {},
   "outputs": [],
   "source": [
    "key_drivers=['paco2','stf10','pprod_gross_2d','surface_alk']#pco2#\n",
    "key_drivers_phys=['sst','salt']\n",
    "\n",
    "vars_of_interest=eqpac[key_drivers]\n",
    "vars_of_interest[key_drivers_phys]=phys_eqpac[key_drivers_phys]"
   ]
  },
  {
   "cell_type": "code",
   "execution_count": null,
   "id": "556098ef-12c8-4212-88ef-03de94bfefb2",
   "metadata": {},
   "outputs": [],
   "source": []
  },
  {
   "cell_type": "code",
   "execution_count": null,
   "id": "927dace0-e32d-4360-8cf6-ef9244eac201",
   "metadata": {},
   "outputs": [],
   "source": []
  },
  {
   "cell_type": "code",
   "execution_count": null,
   "id": "eca86190-1ed3-4d9b-bcd2-7af36bed4eed",
   "metadata": {},
   "outputs": [],
   "source": []
  },
  {
   "cell_type": "code",
   "execution_count": null,
   "id": "acd9f68f-f0c8-41ea-9347-7ed0a03c9d82",
   "metadata": {},
   "outputs": [],
   "source": []
  },
  {
   "cell_type": "code",
   "execution_count": null,
   "id": "b4702c5c-d73b-42a3-87aa-664caf9febe8",
   "metadata": {},
   "outputs": [],
   "source": []
  },
  {
   "cell_type": "code",
   "execution_count": null,
   "id": "9e2758cf-8181-4319-a4be-1ad480a6fea6",
   "metadata": {},
   "outputs": [],
   "source": []
  },
  {
   "cell_type": "code",
   "execution_count": null,
   "id": "22477f3b-182a-4293-aa8d-195d90194600",
   "metadata": {},
   "outputs": [],
   "source": [
    "#eqpac_use=eqpac.stf10.chunk(dict(time=-1)).sel(ensemble=26)\n",
    "#eqpac_use=eqpac_use.interpolate_na(dim='time')#,dask_gufunc_kwargs={'allow_rechunk':True})\n",
    "#eqpac_use=xr.open_dataset('../processed_data/eof_eqpac_test.nc')"
   ]
  }
 ],
 "metadata": {
  "kernelspec": {
   "display_name": "Python 3 (ipykernel)",
   "language": "python",
   "name": "python3"
  },
  "language_info": {
   "codemirror_mode": {
    "name": "ipython",
    "version": 3
   },
   "file_extension": ".py",
   "mimetype": "text/x-python",
   "name": "python",
   "nbconvert_exporter": "python",
   "pygments_lexer": "ipython3",
   "version": "3.9.7"
  }
 },
 "nbformat": 4,
 "nbformat_minor": 5
}
