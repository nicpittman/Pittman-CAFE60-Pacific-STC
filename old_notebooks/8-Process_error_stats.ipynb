{
 "cells": [
  {
   "cell_type": "code",
   "execution_count": 1,
   "id": "0999aeb1-bc2d-4b00-8545-830245444895",
   "metadata": {},
   "outputs": [],
   "source": [
    "# %load C60_jupyter_imports.py\n",
    "%load_ext autoreload\n",
    "%autoreload 2\n",
    "\n",
    "import xarray as xr\n",
    "import numpy as np\n",
    "from dask.distributed import Client\n",
    "import matplotlib as mpl\n",
    "import matplotlib.pyplot as plt\n",
    "import seaborn as sns\n",
    "import pandas as pd\n",
    "from scipy import stats\n",
    "import xesmf as xe\n",
    "from scipy.stats import linregress\n",
    "import os\n",
    "import requests\n",
    "# Lets import our functions. There are no tests here. Stored separately so as to not make a mess.\n",
    "# Make sure in right dir first\n",
    "\n",
    "os.chdir('/g/data/xv83/np1383/src_CAFE60_eqpac_analysis_code/')\n",
    "from C60_obs_functions import cut_regrid_reynolds_sst,cut_process_sst_obs_trends,proc_landschutzer,process_co2_land_trends"
   ]
  },
  {
   "cell_type": "code",
   "execution_count": null,
   "id": "4c39c06d-085a-4563-8ead-e69557081de4",
   "metadata": {},
   "outputs": [],
   "source": []
  },
  {
   "cell_type": "code",
   "execution_count": 6,
   "id": "27180260-2018-48b5-b0e9-d682538847cc",
   "metadata": {},
   "outputs": [
    {
     "data": {
      "text/html": [
       "<div>\n",
       "    <div style=\"width: 24px; height: 24px; background-color: #e1e1e1; border: 3px solid #9D9D9D; border-radius: 5px; position: absolute;\"> </div>\n",
       "    <div style=\"margin-left: 48px;\">\n",
       "        <h3 style=\"margin-bottom: 0px;\">Client</h3>\n",
       "        <p style=\"color: #9D9D9D; margin-bottom: 0px;\">Client-e5564609-2adf-11ec-8a34-fa163e26b9a7</p>\n",
       "        <table style=\"width: 100%; text-align: left;\">\n",
       "\n",
       "        <tr>\n",
       "        \n",
       "            <td style=\"text-align: left;\"><strong>Connection method:</strong> Cluster object</td>\n",
       "            <td style=\"text-align: left;\"><strong>Cluster type:</strong> dask_jobqueue.SLURMCluster</td>\n",
       "        \n",
       "        </tr>\n",
       "\n",
       "        \n",
       "            <tr>\n",
       "                <td style=\"text-align: left;\">\n",
       "                    <strong>Dashboard: </strong> <a href=\"/proxy/8787/status\" target=\"_blank\">/proxy/8787/status</a>\n",
       "                </td>\n",
       "                <td style=\"text-align: left;\"></td>\n",
       "            </tr>\n",
       "        \n",
       "\n",
       "        </table>\n",
       "\n",
       "        \n",
       "            <details>\n",
       "            <summary style=\"margin-bottom: 20px;\"><h3 style=\"display: inline;\">Cluster Info</h3></summary>\n",
       "            <div class=\"jp-RenderedHTMLCommon jp-RenderedHTML jp-mod-trusted jp-OutputArea-output\">\n",
       "    <div style=\"width: 24px; height: 24px; background-color: #e1e1e1; border: 3px solid #9D9D9D; border-radius: 5px; position: absolute;\">\n",
       "    </div>\n",
       "    <div style=\"margin-left: 48px;\">\n",
       "        <h3 style=\"margin-bottom: 0px; margin-top: 0px;\">SLURMCluster</h3>\n",
       "        <p style=\"color: #9D9D9D; margin-bottom: 0px;\">b2424066</p>\n",
       "        <table style=\"width: 100%; text-align: left;\">\n",
       "            <tr>\n",
       "                <td style=\"text-align: left;\">\n",
       "                    <strong>Dashboard:</strong> <a href=\"/proxy/8787/status\" target=\"_blank\">/proxy/8787/status</a>\n",
       "                </td>\n",
       "                <td style=\"text-align: left;\">\n",
       "                    <strong>Workers:</strong> 0\n",
       "                </td>\n",
       "            </tr>\n",
       "            <tr>\n",
       "                <td style=\"text-align: left;\">\n",
       "                    <strong>Total threads:</strong> 0\n",
       "                </td>\n",
       "                <td style=\"text-align: left;\">\n",
       "                    <strong>Total memory:</strong> 0 B\n",
       "                </td>\n",
       "            </tr>\n",
       "            \n",
       "        </table>\n",
       "\n",
       "        <details>\n",
       "            <summary style=\"margin-bottom: 20px;\">\n",
       "                <h3 style=\"display: inline;\">Scheduler Info</h3>\n",
       "            </summary>\n",
       "\n",
       "            <div style=\"\">\n",
       "    <div>\n",
       "        <div style=\"width: 24px; height: 24px; background-color: #FFF7E5; border: 3px solid #FF6132; border-radius: 5px; position: absolute;\"> </div>\n",
       "        <div style=\"margin-left: 48px;\">\n",
       "            <h3 style=\"margin-bottom: 0px;\">Scheduler</h3>\n",
       "            <p style=\"color: #9D9D9D; margin-bottom: 0px;\">Scheduler-c7da05ce-ba59-4fea-bd81-533cbab80c92</p>\n",
       "            <table style=\"width: 100%; text-align: left;\">\n",
       "                <tr>\n",
       "                    <td style=\"text-align: left;\">\n",
       "                        <strong>Comm:</strong> tcp://10.0.128.139:40219\n",
       "                    </td>\n",
       "                    <td style=\"text-align: left;\">\n",
       "                        <strong>Workers:</strong> 0\n",
       "                    </td>\n",
       "                </tr>\n",
       "                <tr>\n",
       "                    <td style=\"text-align: left;\">\n",
       "                        <strong>Dashboard:</strong> <a href=\"/proxy/8787/status\" target=\"_blank\">/proxy/8787/status</a>\n",
       "                    </td>\n",
       "                    <td style=\"text-align: left;\">\n",
       "                        <strong>Total threads:</strong> 0\n",
       "                    </td>\n",
       "                </tr>\n",
       "                <tr>\n",
       "                    <td style=\"text-align: left;\">\n",
       "                        <strong>Started:</strong> Just now\n",
       "                    </td>\n",
       "                    <td style=\"text-align: left;\">\n",
       "                        <strong>Total memory:</strong> 0 B\n",
       "                    </td>\n",
       "                </tr>\n",
       "            </table>\n",
       "        </div>\n",
       "    </div>\n",
       "\n",
       "    <details style=\"margin-left: 48px;\">\n",
       "        <summary style=\"margin-bottom: 20px;\">\n",
       "            <h3 style=\"display: inline;\">Workers</h3>\n",
       "        </summary>\n",
       "\n",
       "        \n",
       "\n",
       "    </details>\n",
       "</div>\n",
       "\n",
       "        </details>\n",
       "    </div>\n",
       "</div>\n",
       "            </details>\n",
       "        \n",
       "\n",
       "    </div>\n",
       "</div>"
      ],
      "text/plain": [
       "<Client: 'tcp://10.0.128.139:40219' processes=0 threads=0, memory=0 B>"
      ]
     },
     "execution_count": 6,
     "metadata": {},
     "output_type": "execute_result"
    }
   ],
   "source": [
    "# Set up the remote dask cluster\n",
    "from dask.distributed import Client,Scheduler\n",
    "from dask_jobqueue import SLURMCluster\n",
    "cluster = SLURMCluster(cores=2,memory=\"16GB\")\n",
    "client = Client(cluster)\n",
    "#cluster.adapt(minimum=2, maximum=16)\n",
    "client"
   ]
  },
  {
   "cell_type": "code",
   "execution_count": null,
   "id": "d3ea23fc-f262-4a16-a283-379ddc1ea9eb",
   "metadata": {},
   "outputs": [],
   "source": [
    "#cluster.scale(cores=8)"
   ]
  },
  {
   "cell_type": "code",
   "execution_count": null,
   "id": "1bbf9618-d0d1-4ec2-93b8-0b71df9dace8",
   "metadata": {},
   "outputs": [],
   "source": [
    "#Bring all the unit conversions here. \n",
    "cafe_co2_all=(xr.open_dataset('../processed_data/cafe/eqpac/stf10_ensmean_1982_all_ensembles.nc',chunks={'time':1}))#.chunk({'time':1})#/1000)*86400)*-12)#g/m2/day\n",
    "cafe_sst_all=xr.open_dataset('../processed_data/cafe/eqpac/sst_ensmean_1982_all_ensembles.nc',chunks={'time':1})#.chunk({'time':1})\n",
    "cafe_co2_all_g=((cafe_co2_all/1000)*86400*-12) #g/m2/day\n",
    "#cafe_co2_all_g\n",
    "\n",
    "\n",
    "phy_mean=xr.open_dataset('../processed_data/cafe/eqpac/phy_ensmean_1982_15m_.nc')\n",
    "#phy_std=xr.open_dataset('../processed_data/eqpac/surface_phy_ensstd_1982.nc')\n",
    "phy_trend82=xr.open_dataset('../processed_data/cafe/eqpac/phy_meantrends_1982_15m_.nc')\n",
    "phy_trend20=xr.open_dataset('../processed_data/cafe/eqpac/phy_meantrends_2000_15m_.nc')\n",
    "\n",
    "#pprod_std=xr.open_dataset('../processed_data/eqpac/pprod_gross_2d_ensstd../_1982.nc')\n",
    "pprod_mean=xr.open_dataset('../processed_data/cafe/eqpac/pprod_gross_2d_ensmean_1982.nc')\n",
    "pprod_trend82=xr.open_dataset('../processed_data/cafe/eqpac/pprod_gross_2d_meantrends_1982.nc')\n",
    "pprod_trend20=xr.open_dataset('../processed_data/cafe/eqpac/pprod_gross_2d_meantrends_2000.nc')\n",
    "\n",
    "\n",
    "#LOAD CAFE SST AND CO2 FLUX\n",
    "cafe_sst_std=xr.open_dataset('../processed_data/cafe/global/sst_ensstd_1982.nc')\n",
    "cafe_sst_mean=xr.open_dataset('../processed_data/cafe/global/sst_ensmean_1982.nc')\n",
    "cafe_sst_82tr=xr.open_dataset('../processed_data/cafe/global/sst_meantrends_1982.nc')\n",
    "cafe_sst_20tr=xr.open_dataset('../processed_data/cafe/global/sst_meantrends_2000.nc')\n",
    "\n",
    "\n",
    "cafe_co2_std=xr.open_dataset('../processed_data/cafe/global/stf10_ensstd_1982.nc')\n",
    "cafe_co2_mean=xr.open_dataset('../processed_data/cafe/global/stf10_ensmean_1982.nc')\n",
    "cafe_co2_82tr=xr.open_dataset('../processed_data/cafe/global/stf10_meantrends_1982.nc')\n",
    "cafe_co2_20tr=xr.open_dataset('../processed_data/cafe/global/stf10_meantrends_2000.nc')\n",
    "\n",
    "\n",
    "#Load CO2 and SST OBS PRODUCTS\n",
    "land_co2=xr.open_dataset('../processed_data/obs/landshutzer_global_regrid.nc')/365 #g/m2/day\n",
    "land_co2_82tr=xr.open_dataset('../processed_data/obs/landshutzer_global_regrid_trend_1982.nc')\n",
    "land_co2_20tr=xr.open_dataset('../processed_data/obs/landshutzer_global_regrid_trend_2000.nc')\n",
    "\n",
    "rey_sst=xr.open_dataset('../processed_data/obs/sst.mnmean.regrid.global.nc')\n",
    "rey_sst_82tr=xr.open_dataset('../processed_data/obs/sst.mnmean.regrid.global.trend.1982.nc')\n",
    "rey_sst_20tr=xr.open_dataset('../processed_data/obs/sst.mnmean.regrid.global.trend.2000.nc')"
   ]
  },
  {
   "cell_type": "code",
   "execution_count": null,
   "id": "39590198-f561-4da6-96a3-5b6a5ad2d22f",
   "metadata": {},
   "outputs": [],
   "source": []
  },
  {
   "cell_type": "code",
   "execution_count": 4,
   "id": "7a95e3d1-b3bf-4695-8d4c-2cbdf211996e",
   "metadata": {},
   "outputs": [],
   "source": [
    "err=xr.open_dataset('../processed_data/err/CO2_flux_allerror.nc',chunks='auto')"
   ]
  },
  {
   "cell_type": "code",
   "execution_count": 13,
   "id": "e74b2b9c-0f7b-4a21-8626-75989cf22e64",
   "metadata": {},
   "outputs": [],
   "source": [
    "cluster.scale(cores=6)"
   ]
  },
  {
   "cell_type": "code",
   "execution_count": 24,
   "id": "caf5e697-7eb1-4662-a1aa-dfac129dd971",
   "metadata": {},
   "outputs": [
    {
     "data": {
      "application/vnd.jupyter.widget-view+json": {
       "model_id": "626df38dee9049a6bcb29e0fb839739e",
       "version_major": 2,
       "version_minor": 0
      },
      "text/plain": [
       "Tab(children=(HTML(value='<div class=\"jp-RenderedHTMLCommon jp-RenderedHTML jp-mod-trusted jp-OutputArea-outpu…"
      ]
     },
     "metadata": {},
     "output_type": "display_data"
    }
   ],
   "source": [
    "cluster"
   ]
  },
  {
   "cell_type": "code",
   "execution_count": null,
   "id": "e807b134-5457-4d67-b944-d614bde25b52",
   "metadata": {},
   "outputs": [],
   "source": [
    "err_tmean=err.mean(dim='time')\n",
    "err_tmean.to_netcdf('../processed_data/err/CO2_flux_meanerror.nc')"
   ]
  },
  {
   "cell_type": "code",
   "execution_count": null,
   "id": "acc2ebbd-ae6f-4e77-899d-e40221ba745c",
   "metadata": {},
   "outputs": [],
   "source": []
  },
  {
   "cell_type": "code",
   "execution_count": null,
   "id": "bf64a623-b6aa-41c8-a432-3c82ce60bc18",
   "metadata": {},
   "outputs": [],
   "source": [
    "err=xr.open_dataset('../processed_data/err/sst_allerror.nc',chunks='auto')\n",
    "err_tmean=err.mean(dim='time')\n",
    "err_tmean.to_netcdf('../processed_data/err/sst_meanerror.nc')"
   ]
  },
  {
   "cell_type": "code",
   "execution_count": null,
   "id": "bef1e9b1-ee64-41d4-b607-5625b1bc66c4",
   "metadata": {},
   "outputs": [],
   "source": [
    "# Lets play, plot and check the error statistics."
   ]
  },
  {
   "cell_type": "code",
   "execution_count": null,
   "id": "412aed3d-ba0f-44b8-84cd-260d19f4863c",
   "metadata": {},
   "outputs": [],
   "source": [
    "# How to find the best model ensemble members"
   ]
  },
  {
   "cell_type": "code",
   "execution_count": null,
   "id": "c6b75e60-2c93-4587-99ea-f7d2f8b437f2",
   "metadata": {},
   "outputs": [],
   "source": []
  },
  {
   "cell_type": "code",
   "execution_count": null,
   "id": "07023242-a6b7-4278-b698-2fd990b5596b",
   "metadata": {},
   "outputs": [],
   "source": []
  },
  {
   "cell_type": "code",
   "execution_count": null,
   "id": "26cc8f33-1c25-4c15-930e-414392d545fe",
   "metadata": {},
   "outputs": [],
   "source": [
    "# Old IDX version\n",
    "wholepac.bias.where(wholepac==wholepac.bias.idxmin(), drop=True).squeeze()"
   ]
  }
 ],
 "metadata": {
  "kernelspec": {
   "display_name": "Python 3 (ipykernel)",
   "language": "python",
   "name": "python3"
  },
  "language_info": {
   "codemirror_mode": {
    "name": "ipython",
    "version": 3
   },
   "file_extension": ".py",
   "mimetype": "text/x-python",
   "name": "python",
   "nbconvert_exporter": "python",
   "pygments_lexer": "ipython3",
   "version": "3.9.12"
  }
 },
 "nbformat": 4,
 "nbformat_minor": 5
}
